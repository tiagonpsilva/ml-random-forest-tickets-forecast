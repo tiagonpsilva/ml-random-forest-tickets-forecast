{
 "cells": [
  {
   "cell_type": "markdown",
   "metadata": {},
   "source": [
    "# Previsão de Volume de Tickets Mensais\n",
    "\n",
    "Este notebook implementa um modelo de previsão para o volume de tickets mensais com base em dados históricos. Utilizamos Random Forest como algoritmo principal devido à sua capacidade de capturar padrões não-lineares e lidar bem com múltiplas variáveis."
   ]
  },
  {
   "cell_type": "markdown",
   "metadata": {},
   "source": [
    "## 1. Carregamento e Visualização dos Dados"
   ]
  },
  {
   "cell_type": "code",
   "execution_count": 1,
   "metadata": {},
   "outputs": [
    {
     "ename": "ModuleNotFoundError",
     "evalue": "No module named 'pandas'",
     "output_type": "error",
     "traceback": [
      "\u001b[0;31m---------------------------------------------------------------------------\u001b[0m",
      "\u001b[0;31mModuleNotFoundError\u001b[0m                       Traceback (most recent call last)",
      "Cell \u001b[0;32mIn[1], line 2\u001b[0m\n\u001b[1;32m      1\u001b[0m \u001b[38;5;66;03m# Importação das bibliotecas necessárias\u001b[39;00m\n\u001b[0;32m----> 2\u001b[0m \u001b[38;5;28;01mimport\u001b[39;00m \u001b[38;5;21;01mpandas\u001b[39;00m \u001b[38;5;28;01mas\u001b[39;00m \u001b[38;5;21;01mpd\u001b[39;00m\n\u001b[1;32m      3\u001b[0m \u001b[38;5;28;01mimport\u001b[39;00m \u001b[38;5;21;01mnumpy\u001b[39;00m \u001b[38;5;28;01mas\u001b[39;00m \u001b[38;5;21;01mnp\u001b[39;00m\n\u001b[1;32m      4\u001b[0m \u001b[38;5;28;01mimport\u001b[39;00m \u001b[38;5;21;01mmatplotlib\u001b[39;00m\u001b[38;5;21;01m.\u001b[39;00m\u001b[38;5;21;01mpyplot\u001b[39;00m \u001b[38;5;28;01mas\u001b[39;00m \u001b[38;5;21;01mplt\u001b[39;00m\n",
      "\u001b[0;31mModuleNotFoundError\u001b[0m: No module named 'pandas'"
     ]
    }
   ],
   "source": [
    "# Importação das bibliotecas necessárias\n",
    "import pandas as pd\n",
    "import numpy as np\n",
    "import matplotlib.pyplot as plt\n",
    "import seaborn as sns\n",
    "from sklearn.ensemble import RandomForestRegressor\n",
    "from sklearn.model_selection import train_test_split\n",
    "from sklearn.metrics import mean_squared_error, mean_absolute_error, r2_score\n",
    "\n",
    "# Configuração de visualização\n",
    "plt.style.use('seaborn-whitegrid')\n",
    "sns.set(font_scale=1.2)\n",
    "\n",
    "# Carregamento dos dados\n",
    "df = pd.read_csv('dados_historicos_tickets.csv')\n",
    "df['data'] = pd.to_datetime(df['data'])\n",
    "df.set_index('data', inplace=True)\n",
    "\n",
    "# Exibição dos primeiros registros\n",
    "print(\"Resumo dos dados:\")\n",
    "df.head()"
   ]
  },
  {
   "cell_type": "code",
   "execution_count": null,
   "metadata": {},
   "outputs": [],
   "source": [
    "# Visualização da série temporal de tickets\n",
    "plt.figure(figsize=(12, 6))\n",
    "plt.plot(df.index, df['tickets'], marker='o', linestyle='-', color='#3498db')\n",
    "plt.title('Volume de Tickets Mensais (2022-2024)', fontsize=16)\n",
    "plt.ylabel('Número de Tickets')\n",
    "plt.grid(True)\n",
    "plt.tight_layout()\n",
    "plt.show()\n",
    "\n",
    "# Estatísticas descritivas\n",
    "print(\"Estatísticas descritivas:\")\n",
    "df.describe()"
   ]
  },
  {
   "cell_type": "markdown",
   "metadata": {},
   "source": [
    "## 2. Análise Exploratória"
   ]
  },
  {
   "cell_type": "code",
   "execution_count": null,
   "metadata": {},
   "outputs": [],
   "source": [
    "# Extrair características temporais\n",
    "df['mes'] = df.index.month\n",
    "df['ano'] = df.index.year\n",
    "df['trimestre'] = df.index.quarter\n",
    "\n",
    "# Matriz de correlação\n",
    "plt.figure(figsize=(10, 8))\n",
    "correlation_matrix = df.corr()\n",
    "sns.heatmap(correlation_matrix, annot=True, cmap='coolwarm', fmt='.2f')\n",
    "plt.title('Matriz de Correlação de Variáveis', fontsize=16)\n",
    "plt.tight_layout()\n",
    "plt.show()"
   ]
  },
  {
   "cell_type": "code",
   "execution_count": null,
   "metadata": {},
   "outputs": [],
   "source": [
    "# Visualização da relação entre variáveis\n",
    "fig, axes = plt.subplots(2, 2, figsize=(15, 10))\n",
    "\n",
    "# Tickets vs Usuários Ativos\n",
    "sns.scatterplot(x='usuarios_ativos', y='tickets', data=df, ax=axes[0, 0])\n",
    "axes[0, 0].set_title('Tickets vs Usuários Ativos')\n",
    "\n",
    "# Tickets vs Campanhas de Marketing\n",
    "sns.boxplot(x='campanhas_marketing', y='tickets', data=df, ax=axes[0, 1])\n",
    "axes[0, 1].set_title('Tickets por Número de Campanhas')\n",
    "\n",
    "# Tickets vs Mês\n",
    "sns.boxplot(x='mes', y='tickets', data=df, ax=axes[1, 0])\n",
    "axes[1, 0].set_title('Distribuição de Tickets por Mês')\n",
    "\n",
    "# Tickets vs Dias Úteis\n",
    "sns.scatterplot(x='dias_uteis', y='tickets', data=df, ax=axes[1, 1])\n",
    "axes[1, 1].set_title('Tickets vs Dias Úteis')\n",
    "\n",
    "plt.tight_layout()\n",
    "plt.show()"
   ]
  },
  {
   "cell_type": "markdown",
   "metadata": {},
   "source": [
    "## 3. Preparação dos Dados"
   ]
  },
  {
   "cell_type": "code",
   "execution_count": null,
   "metadata": {},
   "outputs": [],
   "source": [
    "# Engenharia de características\n",
    "# Transformar variáveis categóricas em one-hot encoding\n",
    "df_model = pd.get_dummies(df, columns=['mes', 'trimestre'], drop_first=True)\n",
    "\n",
    "# Definir features e target\n",
    "X = df_model.drop('tickets', axis=1)\n",
    "y = df_model['tickets']\n",
    "\n",
    "# Divisão em conjuntos de treino e teste (80% treino, 20% teste)\n",
    "X_train, X_test, y_train, y_test = train_test_split(X, y, test_size=0.2, random_state=42)\n",
    "\n",
    "print(f\"Tamanho do conjunto de treino: {X_train.shape}\")\n",
    "print(f\"Tamanho do conjunto de teste: {X_test.shape}\")"
   ]
  },
  {
   "cell_type": "markdown",
   "metadata": {},
   "source": [
    "## 4. Treinamento do Modelo Random Forest"
   ]
  },
  {
   "cell_type": "code",
   "execution_count": null,
   "metadata": {},
   "outputs": [],
   "source": [
    "# Inicialização e treinamento do modelo Random Forest\n",
    "rf_model = RandomForestRegressor(n_estimators=100, \n",
    "                                 max_depth=None, \n",
    "                                 min_samples_split=2, \n",
    "                                 min_samples_leaf=1, \n",
    "                                 random_state=42)\n",
    "\n",
    "# Treinamento do modelo\n",
    "rf_model.fit(X_train, y_train)\n",
    "\n",
    "# Avaliação no conjunto de treinamento\n",
    "y_train_pred = rf_model.predict(X_train)\n",
    "train_rmse = np.sqrt(mean_squared_error(y_train, y_train_pred))\n",
    "train_mae = mean_absolute_error(y_train, y_train_pred)\n",
    "train_r2 = r2_score(y_train, y_train_pred)\n",
    "\n",
    "print(\"Métricas no conjunto de treinamento:\")\n",
    "print(f\"RMSE: {train_rmse:.2f}\")\n",
    "print(f\"MAE: {train_mae:.2f}\")\n",
    "print(f\"R²: {train_r2:.4f}\")"
   ]
  },
  {
   "cell_type": "code",
   "execution_count": null,
   "metadata": {},
   "outputs": [],
   "source": [
    "# Avaliação no conjunto de teste\n",
    "y_pred = rf_model.predict(X_test)\n",
    "test_rmse = np.sqrt(mean_squared_error(y_test, y_pred))\n",
    "test_mae = mean_absolute_error(y_test, y_pred)\n",
    "test_r2 = r2_score(y_test, y_pred)\n",
    "\n",
    "print(\"Métricas no conjunto de teste:\")\n",
    "print(f\"RMSE: {test_rmse:.2f}\")\n",
    "print(f\"MAE: {test_mae:.2f}\")\n",
    "print(f\"R²: {test_r2:.4f}\")\n",
    "\n",
    "# Visualização das previsões vs valores reais\n",
    "plt.figure(figsize=(10, 6))\n",
    "plt.scatter(y_test, y_pred, alpha=0.7)\n",
    "plt.plot([y_test.min(), y_test.max()], [y_test.min(), y_test.max()], 'r--')\n",
    "plt.xlabel('Valores Reais')\n",
    "plt.ylabel('Previsões')\n",
    "plt.title('Valores Reais vs. Previsões', fontsize=16)\n",
    "plt.grid(True)\n",
    "plt.tight_layout()\n",
    "plt.show()"
   ]
  },
  {
   "cell_type": "markdown",
   "metadata": {},
   "source": [
    "## 5. Análise da Importância das Variáveis"
   ]
  },
  {
   "cell_type": "code",
   "execution_count": null,
   "metadata": {},
   "outputs": [],
   "source": [
    "# Exibir importância das variáveis\n",
    "feature_importance = pd.DataFrame({'Feature': X_train.columns, \n",
    "                                  'Importance': rf_model.feature_importances_})\n",
    "feature_importance = feature_importance.sort_values('Importance', ascending=False)\n",
    "\n",
    "plt.figure(figsize=(12, 8))\n",
    "sns.barplot(x='Importance', y='Feature', data=feature_importance)\n",
    "plt.title('Importância das Variáveis no Modelo Random Forest', fontsize=16)\n",
    "plt.tight_layout()\n",
    "plt.show()"
   ]
  },
  {
   "cell_type": "markdown",
   "metadata": {},
   "source": [
    "## 6. Previsão para o Próximo Mês"
   ]
  },
  {
   "cell_type": "code",
   "execution_count": null,
   "metadata": {},
   "outputs": [],
   "source": [
    "# Criar dados para previsão do próximo mês (Junho/2024)\n",
    "next_month = pd.DataFrame({\n",
    "    'usuarios_ativos': [24200],\n",
    "    'feriados': [1],\n",
    "    'campanhas_marketing': [1],\n",
    "    'tickets_previos': [601],  # valor de Maio/2024\n",
    "    'dias_uteis': [20],\n",
    "    'ano': [2024],\n",
    "})\n",
    "\n",
    "# Criar as mesmas colunas do conjunto de treinamento (mês e trimestre)\n",
    "for col in X.columns:\n",
    "    if col not in next_month.columns:\n",
    "        if col == 'mes_6':  # Junho é o mês 6\n",
    "            next_month[col] = 1\n",
    "        elif col == 'trimestre_2':  # Junho está no trimestre 2\n",
    "            next_month[col] = 1\n",
    "        else:\n",
    "            next_month[col] = 0\n",
    "\n",
    "# Garantir a mesma ordem das colunas\n",
    "next_month = next_month[X.columns]\n",
    "\n",
    "# Previsão\n",
    "next_month_prediction = rf_model.predict(next_month)[0]\n",
    "\n",
    "print(f\"Previsão de tickets para Junho/2024: {next_month_prediction:.0f}\")"
   ]
  },
  {
   "cell_type": "markdown",
   "metadata": {},
   "source": [
    "## 7. Visualização da Série Temporal com Previsão"
   ]
  },
  {
   "cell_type": "code",
   "execution_count": null,
   "metadata": {},
   "outputs": [],
   "source": [
    "# Adicionar a previsão ao DataFrame original\n",
    "future_date = pd.to_datetime('2024-06')\n",
    "future_prediction = pd.DataFrame({'tickets': [next_month_prediction]}, index=[future_date])\n",
    "\n",
    "# Concatenar com os dados históricos\n",
    "all_data = pd.concat([df[['tickets']], future_prediction])\n",
    "\n",
    "# Visualizar série temporal com previsão\n",
    "plt.figure(figsize=(14, 7))\n",
    "plt.plot(all_data.index[:-1], all_data['tickets'][:-1], marker='o', linestyle='-', label='Dados Históricos', color='#3498db')\n",
    "plt.plot(all_data.index[-2:], all_data['tickets'][-2:], marker='o', linestyle='-', color='#e74c3c', label='Previsão')\n",
    "plt.scatter(all_data.index[-1], all_data['tickets'][-1], s=120, color='#e74c3c')\n",
    "\n",
    "# Adicionar anotação com o valor previsto\n",
    "plt.annotate(f'{next_month_prediction:.0f}', \n",
    "             xy=(all_data.index[-1], all_data['tickets'][-1]),\n",
    "             xytext=(10, -20),\n",
    "             textcoords='offset points',\n",
    "             bbox=dict(boxstyle='round,pad=0.5', fc='yellow', alpha=0.7))\n",
    "\n",
    "plt.title('Volume de Tickets Mensais com Previsão para Junho/2024', fontsize=16)\n",
    "plt.ylabel('Número de Tickets')\n",
    "plt.grid(True)\n",
    "plt.legend()\n",
    "plt.tight_layout()\n",
    "plt.show()\n",
    "\n",
    "# Exportar resultados\n",
    "resultados = pd.DataFrame({\n",
    "    'Data': [future_date],\n",
    "    'Previsão de Tickets': [next_month_prediction]\n",
    "})\n",
    "resultados.to_csv('previsao_junho_2024.csv', index=False)\n",
    "print(\"Resultados exportados para 'previsao_junho_2024.csv'\")"
   ]
  }
 ],
 "metadata": {
  "kernelspec": {
   "display_name": "Python 3",
   "language": "python",
   "name": "python3"
  },
  "language_info": {
   "codemirror_mode": {
    "name": "ipython",
    "version": 3
   },
   "file_extension": ".py",
   "mimetype": "text/x-python",
   "name": "python",
   "nbconvert_exporter": "python",
   "pygments_lexer": "ipython3",
   "version": "3.9.6"
  }
 },
 "nbformat": 4,
 "nbformat_minor": 2
}
